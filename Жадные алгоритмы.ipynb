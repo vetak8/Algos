{
 "cells": [
  {
   "cell_type": "markdown",
   "id": "7ae297e5",
   "metadata": {},
   "source": [
    "По данным nn отрезкам необходимо найти множество точек минимального размера, для которого каждый из отрезков содержит хотя бы одну из точек.\n",
    "\n",
    "Выведите оптимальное число mm точек и сами mm точек. Если таких множеств точек несколько, выведите любое из них."
   ]
  },
  {
   "cell_type": "code",
   "execution_count": null,
   "id": "5600764a",
   "metadata": {},
   "outputs": [],
   "source": []
  }
 ],
 "metadata": {
  "kernelspec": {
   "display_name": "Python 3 (ipykernel)",
   "language": "python",
   "name": "python3"
  },
  "language_info": {
   "codemirror_mode": {
    "name": "ipython",
    "version": 3
   },
   "file_extension": ".py",
   "mimetype": "text/x-python",
   "name": "python",
   "nbconvert_exporter": "python",
   "pygments_lexer": "ipython3",
   "version": "3.9.7"
  }
 },
 "nbformat": 4,
 "nbformat_minor": 5
}
