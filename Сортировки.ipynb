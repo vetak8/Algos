{
 "cells": [
  {
   "cell_type": "code",
   "execution_count": 4,
   "id": "e00b1a19",
   "metadata": {},
   "outputs": [],
   "source": [
    "import random\n",
    "from typing import List"
   ]
  },
  {
   "cell_type": "markdown",
   "id": "4d2cc73e",
   "metadata": {},
   "source": [
    "# Пузырьком \n",
    "# Максимальная сложность O(N^2)\n",
    "\n",
    "Проходим по всем элементам массива с начала в конец указателем i N-1 раз в первом цикле,\n",
    "во втором цикле проходим по оставшимся элементам N-1-i\n",
    "\n",
    "![bubble](https://pythonru.com/wp-content/uploads/2020/05/puzyrkovaya-sortirovka-na-python.gif)"
   ]
  },
  {
   "cell_type": "code",
   "execution_count": 58,
   "id": "9b6c69be",
   "metadata": {},
   "outputs": [],
   "source": [
    "l = [random.choice(range(20)) for _ in range(11)]"
   ]
  },
  {
   "cell_type": "code",
   "execution_count": 65,
   "id": "09242e05",
   "metadata": {},
   "outputs": [
    {
     "data": {
      "text/plain": [
       "[0, 1, 3, 3, 10, 12, 12, 14, 17, 19, 19]"
      ]
     },
     "execution_count": 65,
     "metadata": {},
     "output_type": "execute_result"
    }
   ],
   "source": [
    "def bubble_sort(lst: List):\n",
    "    def swap(i, j):\n",
    "        lst[i], lst[j] = lst[j], lst[i]\n",
    "        \n",
    "    n = len(lst)    \n",
    "    for i in range(0, n-1): # n-1 итераций работы алгоритма\n",
    "        for j in range(0, n-1-i): #проход по оставшимся элементам\n",
    "            if lst[j+1] < lst[j]:\n",
    "                swap(lst[j+1], lst[j])\n",
    "    return lst\n",
    "        \n",
    "bubble_sort(l)"
   ]
  },
  {
   "cell_type": "code",
   "execution_count": 89,
   "id": "9c902d04",
   "metadata": {},
   "outputs": [],
   "source": [
    "def bubble_sort_while(lst: List):\n",
    "    def swap(i, j):\n",
    "        lst[i], lst[j] = lst[j], lst[i]\n",
    "        \n",
    "    n = len(lst)\n",
    "    swapped = True\n",
    "    \n",
    "    x = -1\n",
    "    while swapped:\n",
    "        swapped = False\n",
    "        x += 1\n",
    "        for i in range(1, n-x):\n",
    "            if lst[i-1] > lst[i]:\n",
    "                swap(i-1, i)                \n",
    "                swapped = True\n",
    "    return lst"
   ]
  },
  {
   "cell_type": "code",
   "execution_count": 90,
   "id": "00c2d75b",
   "metadata": {},
   "outputs": [
    {
     "data": {
      "text/plain": [
       "[2, 2, 5, 10, 10, 10, 14, 14, 15, 16]"
      ]
     },
     "execution_count": 90,
     "metadata": {},
     "output_type": "execute_result"
    }
   ],
   "source": [
    "bubble_sort_while(l)"
   ]
  },
  {
   "cell_type": "markdown",
   "id": "55b35031",
   "metadata": {},
   "source": [
    "# Selection Sort (сортировка выбором)\n",
    "# Сложность O(N^2)\n",
    "Проходим сначала в конец в поисках минимального чимла на кажом этапе \n",
    "![Selection](https://pythonru.com/wp-content/uploads/2020/05/sortirovka-vyborom-na-python.gif \"Selection\")"
   ]
  },
  {
   "cell_type": "code",
   "execution_count": 68,
   "id": "0e113de7",
   "metadata": {},
   "outputs": [],
   "source": [
    "l = [random.choice(range(20)) for _ in range(11)]"
   ]
  },
  {
   "cell_type": "code",
   "execution_count": 74,
   "id": "7f18ef2a",
   "metadata": {},
   "outputs": [
    {
     "data": {
      "text/plain": [
       "[1, 6, 7, 8, 9, 9, 9, 13, 13, 17, 19]"
      ]
     },
     "execution_count": 74,
     "metadata": {},
     "output_type": "execute_result"
    }
   ],
   "source": [
    "def selection_sort(lst):\n",
    "    n = len(lst)\n",
    "    t = None\n",
    "    for i in range(n-1):\n",
    "        for j in range(i+1, n):\n",
    "            if lst[j] < lst[i]:\n",
    "                lst[i], lst[j] = lst[j], lst[i]\n",
    "    return lst \n",
    "selection_sort(l)"
   ]
  },
  {
   "cell_type": "markdown",
   "id": "d945c19e",
   "metadata": {},
   "source": [
    "# Insertion Sort (сортировка вставками)\n",
    "# Сложность O(N^2)\n",
    "Несмотря на то, что сложность как и у предыдущих, сортировка вставками предпочтительнее, потому что если к отсортированному массиву добавить элементы, не нужно будет пересортировывать массив снова, достаточно найти места новым элементам\n",
    "![ins](https://pythonru.com/wp-content/uploads/2020/05/sortirovka-vstavkami-na-python.gif)"
   ]
  },
  {
   "cell_type": "code",
   "execution_count": 80,
   "id": "7e43d415",
   "metadata": {},
   "outputs": [],
   "source": [
    "l = [random.choice(range(20)) for _ in range(10)]"
   ]
  },
  {
   "cell_type": "code",
   "execution_count": 92,
   "id": "667b4f78",
   "metadata": {},
   "outputs": [
    {
     "data": {
      "text/plain": [
       "[2, 2, 5, 10, 10, 10, 14, 14, 15, 16]"
      ]
     },
     "execution_count": 92,
     "metadata": {},
     "output_type": "execute_result"
    }
   ],
   "source": [
    "def insertion_sort(lst):\n",
    "    n = len(lst)\n",
    "    for i in range(1, n): #провегаем по всем элементам начиная со второго\n",
    "        for j in range(i, 0, -1): # пробегаем по элементам слева от i-го в обратном порядке\n",
    "            if lst[j] < lst[j-1]: # сравниваем элементы\n",
    "                lst[j], lst[j-1] = lst[j-1], lst[j] #делаем замену\n",
    "            else:\n",
    "                break\n",
    "    return lst\n",
    "insertion_sort(l)"
   ]
  },
  {
   "cell_type": "markdown",
   "id": "d9c2553c",
   "metadata": {},
   "source": [
    "# Слияние двух отсортированных списков  "
   ]
  },
  {
   "cell_type": "code",
   "execution_count": 109,
   "id": "ccc42285",
   "metadata": {},
   "outputs": [],
   "source": [
    "a = sorted([10, 6, 4, 1, 2, 6, 3])\n",
    "b = sorted([1, 5, 2, 8, 3])"
   ]
  },
  {
   "cell_type": "code",
   "execution_count": 110,
   "id": "2b7836a9",
   "metadata": {},
   "outputs": [],
   "source": [
    "def merge(a, b):\n",
    "    c = []\n",
    "    N = len(a)\n",
    "    M = len(b)\n",
    "    i = 0\n",
    "    j = 0\n",
    "    \n",
    "    while i < N and j < M:\n",
    "        \n",
    "        if a[i] <= b[j]:\n",
    "            c.append(a[i])\n",
    "            i += 1\n",
    "        elif b[j] <= a[i]:\n",
    "            c.append(b[j])\n",
    "            j += 1\n",
    "            \n",
    "    c += a[i:] + b[j:]\n",
    "    return c"
   ]
  },
  {
   "cell_type": "code",
   "execution_count": 111,
   "id": "23973744",
   "metadata": {},
   "outputs": [
    {
     "data": {
      "text/plain": [
       "[1, 1, 2, 2, 3, 3, 4, 5, 6, 6, 8, 10]"
      ]
     },
     "execution_count": 111,
     "metadata": {},
     "output_type": "execute_result"
    }
   ],
   "source": [
    "merge(a, b)"
   ]
  },
  {
   "cell_type": "markdown",
   "id": "c73a0abc",
   "metadata": {},
   "source": [
    "# Merge Sort (сортировка слиянием) \n",
    "# сложность O(n logn)\n",
    "\n",
    "Расщепляем список до атомов и пересобираем его рекурсией как отсортированные списки\n",
    "![merge](https://pythonru.com/wp-content/uploads/2020/05/sortirovka-sliyaniem-na-python.gif)"
   ]
  },
  {
   "cell_type": "code",
   "execution_count": 113,
   "id": "e447ae79",
   "metadata": {},
   "outputs": [
    {
     "data": {
      "text/plain": [
       "[3, 16, 2, 10, 7, 8, 8, 11, 19, 9]"
      ]
     },
     "execution_count": 113,
     "metadata": {},
     "output_type": "execute_result"
    }
   ],
   "source": [
    "l = [random.choice(range(20)) for _ in range(10)]\n",
    "l"
   ]
  },
  {
   "cell_type": "code",
   "execution_count": 114,
   "id": "6b223dfb",
   "metadata": {},
   "outputs": [],
   "source": [
    "def merge_sort(lst):\n",
    "    N = len(lst) // 2\n",
    "    a1 = lst[:N]\n",
    "    a2 = lst[N:]\n",
    "    \n",
    "    if len(a1) > 1:\n",
    "        a1 = merge_sort(a1)\n",
    "    if len(a2) > 1:\n",
    "        a2 = merge_sort(a2)\n",
    "    \n",
    "    return merge(a1, a2) #функция слияние двух упорядоченных списков (от списков длинной в 1 элем до n/2 элем)"
   ]
  },
  {
   "cell_type": "code",
   "execution_count": 115,
   "id": "86594bb8",
   "metadata": {},
   "outputs": [
    {
     "data": {
      "text/plain": [
       "[2, 3, 7, 8, 8, 9, 10, 11, 16, 19]"
      ]
     },
     "execution_count": 115,
     "metadata": {},
     "output_type": "execute_result"
    }
   ],
   "source": [
    "merge_sort(l)"
   ]
  },
  {
   "cell_type": "markdown",
   "id": "7231c113",
   "metadata": {},
   "source": [
    "\n",
    "# Quick Sort (быстрая сортировка) Хоара О(n logn)\n",
    "\n",
    "![ee](https://pythonru.com/wp-content/uploads/2020/05/bystraya-sortirovka-na-python.gif)"
   ]
  },
  {
   "cell_type": "code",
   "execution_count": 120,
   "id": "cdeaa725",
   "metadata": {},
   "outputs": [
    {
     "data": {
      "text/plain": [
       "[7, 10, 18, 3, 11, 6, 14, 14, 11, 19]"
      ]
     },
     "execution_count": 120,
     "metadata": {},
     "output_type": "execute_result"
    }
   ],
   "source": [
    "l = [random.choice(range(20)) for _ in range(10)]\n",
    "l"
   ]
  },
  {
   "cell_type": "code",
   "execution_count": 125,
   "id": "6b3e40a0",
   "metadata": {},
   "outputs": [],
   "source": [
    "def quick_sort(lst):\n",
    "    if len(lst) > 1: #если дина списка больше 1\n",
    "        \n",
    "        x = lst[len(lst) // 2] #выбираем опорный элемент\n",
    "        left = [i for i in lst if i < x] # фильтруем значения меньше опорного в отдельный список\n",
    "        center = [i for i in lst if i == x] #фильтруем значения равные опорному в отдельный список\n",
    "        right = [i for i in lst if i > x] #фильтруем значения больше опорного в отдельный список\n",
    "        \n",
    "        lst = quick_sort(left) + center + quick_sort(right) #проходим рекурсией\n",
    "        \n",
    "    return lst"
   ]
  },
  {
   "cell_type": "code",
   "execution_count": 126,
   "id": "bfb00278",
   "metadata": {},
   "outputs": [
    {
     "data": {
      "text/plain": [
       "[3, 6, 7, 10, 11, 11, 14, 14, 18, 19]"
      ]
     },
     "execution_count": 126,
     "metadata": {},
     "output_type": "execute_result"
    }
   ],
   "source": [
    "quick_sort(l)"
   ]
  },
  {
   "cell_type": "code",
   "execution_count": null,
   "id": "ef1c5dba",
   "metadata": {},
   "outputs": [],
   "source": []
  }
 ],
 "metadata": {
  "kernelspec": {
   "display_name": "Python 3 (ipykernel)",
   "language": "python",
   "name": "python3"
  },
  "language_info": {
   "codemirror_mode": {
    "name": "ipython",
    "version": 3
   },
   "file_extension": ".py",
   "mimetype": "text/x-python",
   "name": "python",
   "nbconvert_exporter": "python",
   "pygments_lexer": "ipython3",
   "version": "3.9.7"
  }
 },
 "nbformat": 4,
 "nbformat_minor": 5
}
