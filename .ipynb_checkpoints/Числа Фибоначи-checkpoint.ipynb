{
 "cells": [
  {
   "cell_type": "markdown",
   "id": "8a16c390",
   "metadata": {},
   "source": [
    "Вычислить Fn"
   ]
  },
  {
   "cell_type": "code",
   "execution_count": 2,
   "id": "056b880b",
   "metadata": {},
   "outputs": [],
   "source": [
    "# рекурсивно очень долго\n",
    "def fib(n):    \n",
    "    if n <= 1:\n",
    "        return n\n",
    "    else:\n",
    "        return fib(n - 1) + fib(n - 2)\n",
    "fib(30)"
   ]
  },
  {
   "cell_type": "code",
   "execution_count": 69,
   "id": "342f1dcd",
   "metadata": {},
   "outputs": [
    {
     "data": {
      "text/plain": [
       "1"
      ]
     },
     "execution_count": 69,
     "metadata": {},
     "output_type": "execute_result"
    }
   ],
   "source": [
    "# Цикkом\n",
    "def fib(n):\n",
    "    if n <= 1:\n",
    "        return n\n",
    "    else:\n",
    "        a, b = 0, 1\n",
    "    for i in range(2, n+2):\n",
    "        a, b = b, a+b\n",
    "    return b \n",
    "fib(100)   "
   ]
  },
  {
   "cell_type": "markdown",
   "id": "16c97df5",
   "metadata": {},
   "source": [
    "## "
   ]
  },
  {
   "cell_type": "code",
   "execution_count": null,
   "id": "548df456",
   "metadata": {},
   "outputs": [],
   "source": []
  }
 ],
 "metadata": {
  "kernelspec": {
   "display_name": "Python 3 (ipykernel)",
   "language": "python",
   "name": "python3"
  },
  "language_info": {
   "codemirror_mode": {
    "name": "ipython",
    "version": 3
   },
   "file_extension": ".py",
   "mimetype": "text/x-python",
   "name": "python",
   "nbconvert_exporter": "python",
   "pygments_lexer": "ipython3",
   "version": "3.9.7"
  }
 },
 "nbformat": 4,
 "nbformat_minor": 5
}
