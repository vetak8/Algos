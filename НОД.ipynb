{
 "cells": [
  {
   "cell_type": "code",
   "execution_count": 1,
   "id": "daa8ba56",
   "metadata": {},
   "outputs": [],
   "source": [
    "def nod(a, b):\n",
    "    if a == 0:\n",
    "        return b\n",
    "    if b == 0:\n",
    "        return a\n",
    "    if a >= b:\n",
    "        return nod(a % b, b)\n",
    "    if b >= a:\n",
    "        return nod(b % a, a)\n"
   ]
  },
  {
   "cell_type": "code",
   "execution_count": 2,
   "id": "11e9838c",
   "metadata": {},
   "outputs": [
    {
     "data": {
      "text/plain": [
       "61232"
      ]
     },
     "execution_count": 2,
     "metadata": {},
     "output_type": "execute_result"
    }
   ],
   "source": [
    "\n",
    "nod(3918848, 1653264)"
   ]
  },
  {
   "cell_type": "code",
   "execution_count": 3,
   "id": "2ebb4618",
   "metadata": {},
   "outputs": [
    {
     "data": {
      "text/plain": [
       "7"
      ]
     },
     "execution_count": 3,
     "metadata": {},
     "output_type": "execute_result"
    }
   ],
   "source": [
    "nod(14, 7)"
   ]
  },
  {
   "cell_type": "code",
   "execution_count": 4,
   "id": "5ed58d6d",
   "metadata": {},
   "outputs": [],
   "source": [
    "def nod1(a, b):\n",
    "    assert a >= 0 and b >= 0\n",
    "    if a == 0 or b == 0:\n",
    "        return max(a, b)\n",
    "    return nod1(b % a, a)\n",
    "    "
   ]
  },
  {
   "cell_type": "code",
   "execution_count": 7,
   "id": "753cef4f",
   "metadata": {},
   "outputs": [
    {
     "data": {
      "text/plain": [
       "46"
      ]
     },
     "execution_count": 7,
     "metadata": {},
     "output_type": "execute_result"
    }
   ],
   "source": [
    "nod1(0, 46)"
   ]
  },
  {
   "cell_type": "code",
   "execution_count": null,
   "id": "15b3f154",
   "metadata": {},
   "outputs": [],
   "source": []
  }
 ],
 "metadata": {
  "kernelspec": {
   "display_name": "Python 3 (ipykernel)",
   "language": "python",
   "name": "python3"
  },
  "language_info": {
   "codemirror_mode": {
    "name": "ipython",
    "version": 3
   },
   "file_extension": ".py",
   "mimetype": "text/x-python",
   "name": "python",
   "nbconvert_exporter": "python",
   "pygments_lexer": "ipython3",
   "version": "3.9.7"
  }
 },
 "nbformat": 4,
 "nbformat_minor": 5
}
